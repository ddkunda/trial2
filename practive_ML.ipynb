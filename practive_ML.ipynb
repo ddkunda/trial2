{
 "cells": [
  {
   "cell_type": "code",
   "execution_count": null,
   "id": "9852bf84-b2db-47d9-a5b8-9198bdeab900",
   "metadata": {},
   "outputs": [],
   "source": [
    "## Calculate percent missing for each column\n",
    "(train_df.isnull().sum() / train_df.shape[0])*100"
   ]
  },
  {
   "cell_type": "code",
   "execution_count": null,
   "id": "673de524-1818-493c-b931-c15ac1a9d3c5",
   "metadata": {},
   "outputs": [],
   "source": [
    "data = data.astype(float)"
   ]
  },
  {
   "cell_type": "code",
   "execution_count": null,
   "id": "20b0e76f-baa0-4161-ae2b-f53469b991a6",
   "metadata": {},
   "outputs": [],
   "source": [
    "## Calculate the group proportion for each variable\n",
    "for i in cat_cols:\n",
    "    print(df[i].value_counts(normalize = True))\n",
    "    \n",
    "    print('*' * 40)"
   ]
  },
  {
   "cell_type": "code",
   "execution_count": 9,
   "id": "d1a3557b-8e3c-4e3e-a6e5-aaf633e950a8",
   "metadata": {},
   "outputs": [],
   "source": [
    "#!pip install statsmodels\n",
    "import statsmodels.api as sm"
   ]
  },
  {
   "cell_type": "code",
   "execution_count": 4,
   "id": "d36c8d66-b6c2-400b-8e08-38309367e27d",
   "metadata": {},
   "outputs": [],
   "source": [
    "import numpy as np\n",
    "from sklearn.linear_model import LinearRegression"
   ]
  },
  {
   "cell_type": "code",
   "execution_count": 7,
   "id": "f9d2d07b-f69e-43ff-b8a5-68f0c0c8b435",
   "metadata": {},
   "outputs": [
    {
     "ename": "NameError",
     "evalue": "name 'X' is not defined",
     "output_type": "error",
     "traceback": [
      "\u001b[0;31m---------------------------------------------------------------------------\u001b[0m",
      "\u001b[0;31mNameError\u001b[0m                                 Traceback (most recent call last)",
      "Cell \u001b[0;32mIn[7], line 3\u001b[0m\n\u001b[1;32m      1\u001b[0m \u001b[38;5;28;01mfrom\u001b[39;00m \u001b[38;5;21;01msklearn\u001b[39;00m\u001b[38;5;21;01m.\u001b[39;00m\u001b[38;5;21;01mmodel_selection\u001b[39;00m \u001b[38;5;28;01mimport\u001b[39;00m train_test_split\n\u001b[1;32m      2\u001b[0m \u001b[38;5;66;03m# Creating the training and testing data from X and Y \u001b[39;00m\n\u001b[0;32m----> 3\u001b[0m xtrain,xtest,ytrain,ytest \u001b[38;5;241m=\u001b[39m train_test_split(\u001b[43mX\u001b[49m,Y,test_size\u001b[38;5;241m=\u001b[39m\u001b[38;5;241m0.2\u001b[39m, random_state\u001b[38;5;241m=\u001b[39m\u001b[38;5;241m42\u001b[39m)\n",
      "\u001b[0;31mNameError\u001b[0m: name 'X' is not defined"
     ]
    }
   ],
   "source": [
    "from sklearn.model_selection import train_test_split\n",
    "# Creating the training and testing data from X and Y \n",
    "xtrain,xtest,ytrain,ytest = train_test_split(X,Y,test_size=0.2, random_state=42)"
   ]
  },
  {
   "cell_type": "code",
   "execution_count": 5,
   "id": "1dffe75b-539b-4ff8-ae64-1754bdc4a47f",
   "metadata": {},
   "outputs": [
    {
     "ename": "SyntaxError",
     "evalue": "invalid syntax (2772552525.py, line 1)",
     "output_type": "error",
     "traceback": [
      "\u001b[0;36m  Cell \u001b[0;32mIn[5], line 1\u001b[0;36m\u001b[0m\n\u001b[0;31m    sklearn.linear_model.LinearRegression(*, fit_intercept=True, normalize='deprecated', copy_X=True, n_jobs=None, positive=False)\u001b[0m\n\u001b[0m                                           ^\u001b[0m\n\u001b[0;31mSyntaxError\u001b[0m\u001b[0;31m:\u001b[0m invalid syntax\n"
     ]
    }
   ],
   "source": [
    "sklearn.linear_model.LinearRegression(*, fit_intercept=True, normalize='deprecated', copy_X=True, n_jobs=None, positive=False)"
   ]
  },
  {
   "cell_type": "code",
   "execution_count": 6,
   "id": "ad3280a4-8aa0-4b1a-818d-6b93155276c8",
   "metadata": {},
   "outputs": [
    {
     "ename": "NameError",
     "evalue": "name 'sklearn' is not defined",
     "output_type": "error",
     "traceback": [
      "\u001b[0;31m---------------------------------------------------------------------------\u001b[0m",
      "\u001b[0;31mNameError\u001b[0m                                 Traceback (most recent call last)",
      "Cell \u001b[0;32mIn[6], line 1\u001b[0m\n\u001b[0;32m----> 1\u001b[0m \u001b[43msklearn\u001b[49m\u001b[38;5;241m.\u001b[39mmodel_selection\u001b[38;5;241m.\u001b[39mtrain_test_split(\u001b[38;5;241m*\u001b[39marrays, test_size\u001b[38;5;241m=\u001b[39m\u001b[38;5;28;01mNone\u001b[39;00m, train_size\u001b[38;5;241m=\u001b[39m\u001b[38;5;28;01mNone\u001b[39;00m, random_state\u001b[38;5;241m=\u001b[39m\u001b[38;5;28;01mNone\u001b[39;00m, shuffle\u001b[38;5;241m=\u001b[39m\u001b[38;5;28;01mTrue\u001b[39;00m, stratify\u001b[38;5;241m=\u001b[39m\u001b[38;5;28;01mNone\u001b[39;00m)\n",
      "\u001b[0;31mNameError\u001b[0m: name 'sklearn' is not defined"
     ]
    }
   ],
   "source": [
    "sklearn.model_selection.train_test_split(*arrays, test_size=None, train_size=None, random_state=None, shuffle=True, stratify=None)"
   ]
  },
  {
   "cell_type": "code",
   "execution_count": null,
   "id": "f59c6eb5-8b50-4910-b3db-a6362f125bcc",
   "metadata": {},
   "outputs": [],
   "source": [
    "## LDA\n",
    "from sklearn.discriminant_analysis import LinearDiscriminantAnalysis\n",
    "sklearn.discriminant_analysis.LinearDiscriminantAnalysis(solver='svd', shrinkage=None, priors=None, n_components=None, store_covariance=False, tol=0.0001, covariance_estimator=None)"
   ]
  },
  {
   "cell_type": "code",
   "execution_count": null,
   "id": "3a504f1a-8964-4522-92d7-836be5e1c5a8",
   "metadata": {},
   "outputs": [],
   "source": [
    "from sklearn.discriminant_analysis import LinearDiscriminantAnalysis\n",
    "model = LinearDiscriminantAnalysis()\n",
    "model.fit(xtrain,ytrain)"
   ]
  },
  {
   "cell_type": "code",
   "execution_count": null,
   "id": "f796d267-a766-4797-a7cb-38fea4b8a7b8",
   "metadata": {},
   "outputs": [],
   "source": [
    "## QDA\n",
    "from sklearn.discriminant_analysis import QuadraticDiscriminantAnalysis\n",
    "sklearn.discriminant_analysis.QuadraticDiscriminantAnalysis(*, priors=None, reg_param=0.0, store_covariance=False, tol=0.0001)"
   ]
  },
  {
   "cell_type": "code",
   "execution_count": null,
   "id": "52c22425-1752-44f9-a52f-19e773365cf6",
   "metadata": {},
   "outputs": [],
   "source": [
    "from sklearn.discriminant_analysis import QuadraticDiscriminantAnalysis\n",
    "model = QuadraticDiscriminantAnalysis()\n",
    "model.fit(xtrain,ytrain)"
   ]
  },
  {
   "cell_type": "code",
   "execution_count": null,
   "id": "eb36ba87-c743-4792-9df5-b9087d42e0da",
   "metadata": {},
   "outputs": [],
   "source": [
    "## KNN\n",
    "from sklearn.neighbors import KNeighborsClassifier\n",
    "sklearn.neighbors.KNeighborsClassifier(n_neighbors=5, *, weights='uniform', algorithm='auto', leaf_size=30, p=2, metric='minkowski', metric_params=None, n_jobs=None)"
   ]
  },
  {
   "cell_type": "code",
   "execution_count": null,
   "id": "e1c87ed9-f2aa-438b-bd35-a06a8cffe05c",
   "metadata": {},
   "outputs": [],
   "source": [
    "from sklearn.neighbors import KNeighborsClassifier\n",
    "model = KNeighborsClassifier()\n",
    "model.fit(xtrain,ytrain)"
   ]
  },
  {
   "cell_type": "code",
   "execution_count": null,
   "id": "16226a9d-7a6a-4dfe-a71e-0ff55284a88f",
   "metadata": {},
   "outputs": [],
   "source": [
    "## Precision-Recall curve\n",
    "from sklearn.metrics import classification_report, confusion_matrix, precision_recall_curve"
   ]
  },
  {
   "cell_type": "code",
   "execution_count": null,
   "id": "ae69c364-a7e4-448e-9cfb-a16b470ffd0e",
   "metadata": {},
   "outputs": [],
   "source": [
    "from sklearn.metrics import classification_report, confusion_matrix, precision_recall_curve\n",
    "print(classification_report(actual, predictions))\n",
    "print(confusion_matrix(actual, predictions))\n",
    "precision_recall_curve(actual, predictions)"
   ]
  },
  {
   "cell_type": "code",
   "execution_count": null,
   "id": "1d92786c-1d3f-4993-9e87-8217f2c7d8e1",
   "metadata": {},
   "outputs": [],
   "source": [
    "## Model Tuning\n",
    "# importing the GridSearchCV\n",
    "from sklearn.model_selection import GridSearchCV\n",
    "sklearn.model_selection.GridSearchCV(estimator, param_grid, *, scoring=None, n_jobs=None, refit=True, cv=None, verbose=0, pre_dispatch='2*n_jobs', error_score=nan, return_train_score=False)"
   ]
  },
  {
   "cell_type": "code",
   "execution_count": null,
   "id": "855f549a-0cd9-4812-8ed6-74603872dd21",
   "metadata": {},
   "outputs": [],
   "source": [
    "import numpy as np\n",
    "import pandas as pd\n",
    "\n",
    "# Now load in the dataset with Pandas\n",
    "dataset = pd.read_csv(‘data.csv')\n",
    "\n",
    "# Print out part of the dataset to ensure proper loading\n",
    "print(dataset.head())\n",
    "df = df.drop('Unnamed: 32', axis=1)\n",
    "print(df.head(5))\n",
    "\n",
    "## split our dataframe into training and testing sections\n",
    "from sklearn.model_selection import train_test_split\n",
    "X_train, X_test, y_train, y_test = train_test_split(x, y, test_size=0.15, random_state=31)\n",
    "\n",
    "\n",
    "## rescale data\n",
    "from sklearn.preprocessing import\n",
    "StandardScaler\n",
    "\n",
    "# Create an instance of the scaler and apply it to the data\n",
    "sc = StandardScaler()\n",
    "X_train = sc.fit_transform(X_train)\n",
    "X_test = sc.transform(X_test)\n",
    "\n",
    "## create the logistic regression model\n",
    "from sklearn.linear_model import LogisticRegression\n",
    "\n",
    "LogReg_clf = LogisticRegression(random_state = 0)\n",
    "classifier.fit(X_train, y_train)\n",
    "\n",
    "## now create the predictions by running the classifier on the test dataset\n",
    "y_pred = classifier.predict(X_test)\n",
    "\n",
    "## check to see how the classifier performed by importing some metrics and checking the predicted values against the actual values\n",
    "from sklearn.metrics import confusion_matrix, accuracy_score\n",
    "\n",
    "acc =  accuracy_score(y_test, y_pred)\n",
    "cm = confusion_matrix(y_test, y_pred)\n",
    "\n",
    "print(acc)\n",
    "print(cm)"
   ]
  },
  {
   "cell_type": "code",
   "execution_count": null,
   "id": "8780d7b8-779d-47c5-898c-cd720b4e0407",
   "metadata": {},
   "outputs": [],
   "source": [
    "# List of all important categorical variables\n",
    "cat_col = [\"Department\", \"Type of Admission\", 'Severity of Illness', 'gender', 'Insurance', 'health_conditions', 'doctor_name', \"Ward_Facility_Code\", \"Age\"]\n",
    "\n",
    "# Printing the number of occurrences of each unique value in each categorical column\n",
    "for column in cat_col:\n",
    "    print(data[column].value_counts(1))\n",
    "    print(\"-\" * 50)"
   ]
  },
  {
   "cell_type": "code",
   "execution_count": null,
   "id": "793cfb8e-5b94-4cd4-ab93-655173e6d110",
   "metadata": {},
   "outputs": [],
   "source": [
    "##################################################\n",
    "## Univariate Analysis for numeric variables\n",
    "##################################################\n",
    "\n",
    "# Function to plot a boxplot and a histogram along the same scale\n",
    "\n",
    "def histogram_boxplot(data, feature, figsize=(12, 7), kde=False, bins=None):\n",
    "    \"\"\"\n",
    "    Boxplot and histogram combined\n",
    "\n",
    "    data: dataframe\n",
    "    feature: dataframe column\n",
    "    figsize: size of figure (default (12,7))\n",
    "    kde: whether to the show density curve (default False)\n",
    "    bins: number of bins for histogram (default None)\n",
    "    \"\"\"\n",
    "    f2, (ax_box2, ax_hist2) = plt.subplots(\n",
    "        nrows = 2,      # Number of rows of the subplot grid = 2\n",
    "        sharex = True,  # x-axis will be shared among all subplots\n",
    "        gridspec_kw = {\"height_ratios\": (0.25, 0.75)},\n",
    "        figsize = figsize,\n",
    "    )                   # Creating the 2 subplots\n",
    "    sns.boxplot(data = data, x = feature, ax = ax_box2, showmeans = True, color = \"violet\"\n",
    "    )                   # Boxplot will be created and a star will indicate the mean value of the column\n",
    "    sns.histplot(\n",
    "        data = data, x = feature, kde = kde, ax = ax_hist2, bins = bins, palette = \"winter\"\n",
    "    ) if bins else sns.histplot(\n",
    "        data = data, x = feature, kde = kde, ax = ax_hist2\n",
    "    )                   # For histogram\n",
    "    ax_hist2.axvline(\n",
    "        data[feature].mean(), color = \"green\", linestyle = \"--\"\n",
    "    )                   # Add mean to the histogram\n",
    "    ax_hist2.axvline(\n",
    "        data[feature].median(), color = \"black\", linestyle = \"-\"\n",
    "    )                   # Add median to the histogram"
   ]
  },
  {
   "cell_type": "code",
   "execution_count": null,
   "id": "f6bcfe56-d8fd-4b28-b1eb-a6359baac3e0",
   "metadata": {},
   "outputs": [],
   "source": [
    "histogram_boxplot(data, \"Stay (in days)\", kde = True, bins = 30)"
   ]
  },
  {
   "cell_type": "code",
   "execution_count": null,
   "id": "46cfd037-c90c-46cf-8804-ce42d642160d",
   "metadata": {},
   "outputs": [],
   "source": [
    "##################################################\n",
    "## Bivariate Analysis for categorical variables\n",
    "##################################################\n",
    "\n",
    "# Function to plot stacked bar plots\n",
    "\n",
    "def stacked_barplot(data, predictor, target):\n",
    "    \"\"\"\n",
    "    Print the category counts and plot a stacked bar chart\n",
    "\n",
    "    data: dataframe\n",
    "    predictor: independent variable\n",
    "    target: target variable\n",
    "    \"\"\"\n",
    "    count = data[predictor].nunique()\n",
    "    sorter = data[target].value_counts().index[-1]\n",
    "    tab1 = pd.crosstab(data[predictor], data[target], margins = True).sort_values(\n",
    "        by = sorter, ascending = False\n",
    "    )\n",
    "    print(tab1)\n",
    "    print(\"-\" * 120)\n",
    "    tab = pd.crosstab(data[predictor], data[target], normalize = \"index\").sort_values(\n",
    "        by = sorter, ascending = False\n",
    "    )\n",
    "    tab.plot(kind = \"bar\", stacked = True, figsize = (count + 1, 5))\n",
    "    plt.legend(\n",
    "        loc = \"lower left\",\n",
    "        frameon = False,\n",
    "    )\n",
    "    plt.legend(loc = \"upper left\", bbox_to_anchor = (1, 1))\n",
    "    plt.show()"
   ]
  },
  {
   "cell_type": "code",
   "execution_count": null,
   "id": "10213674-c64d-4226-b556-4787914e82e0",
   "metadata": {},
   "outputs": [],
   "source": [
    "sns.barplot(y = 'Ward_Facility_Code', x = 'Stay (in days)', data = data)\n",
    "plt.show()"
   ]
  },
  {
   "cell_type": "code",
   "execution_count": 3,
   "id": "3df61074-e6ee-4152-81a2-208efd0b1957",
   "metadata": {},
   "outputs": [
    {
     "data": {
      "text/plain": [
       "192.85714285714286"
      ]
     },
     "execution_count": 3,
     "metadata": {},
     "output_type": "execute_result"
    }
   ],
   "source": [
    "1350/7"
   ]
  },
  {
   "cell_type": "code",
   "execution_count": 4,
   "id": "8c21099e-577a-4b8c-bc85-6f0319266aa2",
   "metadata": {},
   "outputs": [
    {
     "data": {
      "text/plain": [
       "21.24590163934426"
      ]
     },
     "execution_count": 4,
     "metadata": {},
     "output_type": "execute_result"
    }
   ],
   "source": [
    "1296/(61)"
   ]
  },
  {
   "cell_type": "code",
   "execution_count": 5,
   "id": "40033228-c786-4150-90e2-7313675bc923",
   "metadata": {},
   "outputs": [
    {
     "data": {
      "text/plain": [
       "9.077380952380953"
      ]
     },
     "execution_count": 5,
     "metadata": {},
     "output_type": "execute_result"
    }
   ],
   "source": [
    "192.85714285714286/21.24590163934426"
   ]
  },
  {
   "cell_type": "code",
   "execution_count": 1,
   "id": "fb10868a-cb6a-49ca-803f-f3da4c73d87c",
   "metadata": {},
   "outputs": [
    {
     "name": "stdout",
     "output_type": "stream",
     "text": [
      "Checking whether there is an H2O instance running at http://localhost:54323..... not found.\n",
      "Attempting to start a local H2O server...\n",
      "  Java Version: java version \"1.8.0_401\"; Java(TM) SE Runtime Environment (build 1.8.0_401-b10); Java HotSpot(TM) 64-Bit Server VM (build 25.401-b10, mixed mode)\n",
      "  Starting server from /usr/local/lib/python3.9/site-packages/h2o/backend/bin/h2o.jar\n",
      "  Ice root: /var/folders/79/f9sxftgn5f11kz81p0h4hnlr0000gn/T/tmp79_t1v75\n",
      "  JVM stdout: /var/folders/79/f9sxftgn5f11kz81p0h4hnlr0000gn/T/tmp79_t1v75/h2o_chris_started_from_python.out\n",
      "  JVM stderr: /var/folders/79/f9sxftgn5f11kz81p0h4hnlr0000gn/T/tmp79_t1v75/h2o_chris_started_from_python.err\n",
      "  Server is running at http://127.0.0.1:54323\n",
      "Connecting to H2O server at http://127.0.0.1:54323 ... successful.\n"
     ]
    },
    {
     "data": {
      "text/html": [
       "\n",
       "<style>\n",
       "\n",
       "#h2o-table-1.h2o-container {\n",
       "  overflow-x: auto;\n",
       "}\n",
       "#h2o-table-1 .h2o-table {\n",
       "  /* width: 100%; */\n",
       "  margin-top: 1em;\n",
       "  margin-bottom: 1em;\n",
       "}\n",
       "#h2o-table-1 .h2o-table caption {\n",
       "  white-space: nowrap;\n",
       "  caption-side: top;\n",
       "  text-align: left;\n",
       "  /* margin-left: 1em; */\n",
       "  margin: 0;\n",
       "  font-size: larger;\n",
       "}\n",
       "#h2o-table-1 .h2o-table thead {\n",
       "  white-space: nowrap; \n",
       "  position: sticky;\n",
       "  top: 0;\n",
       "  box-shadow: 0 -1px inset;\n",
       "}\n",
       "#h2o-table-1 .h2o-table tbody {\n",
       "  overflow: auto;\n",
       "}\n",
       "#h2o-table-1 .h2o-table th,\n",
       "#h2o-table-1 .h2o-table td {\n",
       "  text-align: right;\n",
       "  /* border: 1px solid; */\n",
       "}\n",
       "#h2o-table-1 .h2o-table tr:nth-child(even) {\n",
       "  /* background: #F5F5F5 */\n",
       "}\n",
       "\n",
       "</style>      \n",
       "<div id=\"h2o-table-1\" class=\"h2o-container\">\n",
       "  <table class=\"h2o-table\">\n",
       "    <caption></caption>\n",
       "    <thead></thead>\n",
       "    <tbody><tr><td>H2O_cluster_uptime:</td>\n",
       "<td>13 secs</td></tr>\n",
       "<tr><td>H2O_cluster_timezone:</td>\n",
       "<td>America/Denver</td></tr>\n",
       "<tr><td>H2O_data_parsing_timezone:</td>\n",
       "<td>UTC</td></tr>\n",
       "<tr><td>H2O_cluster_version:</td>\n",
       "<td>3.44.0.3</td></tr>\n",
       "<tr><td>H2O_cluster_version_age:</td>\n",
       "<td>1 month and 27 days</td></tr>\n",
       "<tr><td>H2O_cluster_name:</td>\n",
       "<td>H2O_from_python_chris_x4u4lz</td></tr>\n",
       "<tr><td>H2O_cluster_total_nodes:</td>\n",
       "<td>1</td></tr>\n",
       "<tr><td>H2O_cluster_free_memory:</td>\n",
       "<td>7.095 Gb</td></tr>\n",
       "<tr><td>H2O_cluster_total_cores:</td>\n",
       "<td>0</td></tr>\n",
       "<tr><td>H2O_cluster_allowed_cores:</td>\n",
       "<td>0</td></tr>\n",
       "<tr><td>H2O_cluster_status:</td>\n",
       "<td>locked, healthy</td></tr>\n",
       "<tr><td>H2O_connection_url:</td>\n",
       "<td>http://127.0.0.1:54323</td></tr>\n",
       "<tr><td>H2O_connection_proxy:</td>\n",
       "<td>{\"http\": null, \"https\": null}</td></tr>\n",
       "<tr><td>H2O_internal_security:</td>\n",
       "<td>False</td></tr>\n",
       "<tr><td>Python_version:</td>\n",
       "<td>3.9.13 final</td></tr></tbody>\n",
       "  </table>\n",
       "</div>\n"
      ],
      "text/plain": [
       "--------------------------  -----------------------------\n",
       "H2O_cluster_uptime:         13 secs\n",
       "H2O_cluster_timezone:       America/Denver\n",
       "H2O_data_parsing_timezone:  UTC\n",
       "H2O_cluster_version:        3.44.0.3\n",
       "H2O_cluster_version_age:    1 month and 27 days\n",
       "H2O_cluster_name:           H2O_from_python_chris_x4u4lz\n",
       "H2O_cluster_total_nodes:    1\n",
       "H2O_cluster_free_memory:    7.095 Gb\n",
       "H2O_cluster_total_cores:    0\n",
       "H2O_cluster_allowed_cores:  0\n",
       "H2O_cluster_status:         locked, healthy\n",
       "H2O_connection_url:         http://127.0.0.1:54323\n",
       "H2O_connection_proxy:       {\"http\": null, \"https\": null}\n",
       "H2O_internal_security:      False\n",
       "Python_version:             3.9.13 final\n",
       "--------------------------  -----------------------------"
      ]
     },
     "metadata": {},
     "output_type": "display_data"
    }
   ],
   "source": [
    "import h2o\n",
    "h2o.init(ip=\"localhost\", port=54323)"
   ]
  },
  {
   "cell_type": "code",
   "execution_count": null,
   "id": "bcbde06a-250b-44ec-a02f-13d36d00d75e",
   "metadata": {},
   "outputs": [],
   "source": []
  },
  {
   "cell_type": "code",
   "execution_count": null,
   "id": "e9846e4f-547f-4d17-9ae1-eeb3d972924a",
   "metadata": {},
   "outputs": [],
   "source": [
    "# Creating dummy variables for the categorical columns\n",
    "# drop_first=True is used to avoid redundant variables\n",
    "data = pd.get_dummies(\n",
    "    data,\n",
    "    columns = data.select_dtypes(include = [\"object\", \"category\"]).columns.tolist(),\n",
    "    drop_first = True,\n",
    ")"
   ]
  }
 ],
 "metadata": {
  "kernelspec": {
   "display_name": "Python 3 (ipykernel)",
   "language": "python",
   "name": "python3"
  },
  "language_info": {
   "codemirror_mode": {
    "name": "ipython",
    "version": 3
   },
   "file_extension": ".py",
   "mimetype": "text/x-python",
   "name": "python",
   "nbconvert_exporter": "python",
   "pygments_lexer": "ipython3",
   "version": "3.9.13"
  }
 },
 "nbformat": 4,
 "nbformat_minor": 5
}
